{
 "cells": [
  {
   "cell_type": "code",
   "execution_count": 6,
   "metadata": {
    "collapsed": true,
    "pycharm": {
     "name": "#%%\n"
    }
   },
   "outputs": [],
   "source": [
    "import matplotlib.pyplot as plt\n",
    "import numpy as np"
   ]
  },
  {
   "cell_type": "code",
   "execution_count": null,
   "outputs": [],
   "source": [
    "def LogisticCostFunction(expected, output):\n",
    "    return -1 * (sum(expected * np.log(output + 0.00000001) + (1 - expected) * np.log(1.00000001 - output)) / len(\n",
    "        expected))\n"
   ],
   "metadata": {
    "collapsed": false,
    "pycharm": {
     "name": "#%%\n"
    }
   }
  },
  {
   "cell_type": "code",
   "execution_count": null,
   "outputs": [],
   "source": [
    "def sigmoid(output):\n",
    "    return 1 / (1 + np.exp(-1 * output))"
   ],
   "metadata": {
    "collapsed": false,
    "pycharm": {
     "name": "#%%\n"
    }
   }
  },
  {
   "cell_type": "code",
   "source": [
    "def logistic_regression(input, params, expected, alpha, epochs):\n",
    "    costarr = []\n",
    "    for i in range(epochs):\n",
    "        result = np.dot(params, input)\n",
    "        result = np.transpose(result)\n",
    "        result = sigmoid(result)\n",
    "        cost = LogisticCostFunction(expected, result)\n",
    "        costarr.append(cost)\n",
    "        params = params - alpha * (np.sum(input * np.transpose((result - expected)), 1))\n",
    "    plt.plot(np.arange(0, len(costarr)), costarr)\n",
    "    plt.show()\n",
    "    return params"
   ],
   "metadata": {
    "collapsed": false,
    "pycharm": {
     "name": "#%%\n"
    }
   },
   "execution_count": null,
   "outputs": []
  },
  {
   "cell_type": "markdown",
   "source": [
    " Load the training data"
   ],
   "metadata": {
    "collapsed": false,
    "pycharm": {
     "name": "#%% md\n"
    }
   }
  },
  {
   "cell_type": "code",
   "execution_count": null,
   "outputs": [],
   "source": [
    "file = open(\"data/Social_Network_Ads.csv\", \"r\")\n",
    "train = np.zeros((0, 4))\n",
    "out = np.zeros((0, 1))\n",
    "file.readline()\n",
    "for line in file.readlines():\n",
    "    words = line.split(\",\")\n",
    "    if words[1] == 'Male':\n",
    "        train = np.append(train, np.array([[1, 1, float(words[2]), float(words[3])]]), axis=0)\n",
    "    else:\n",
    "        train = np.append(train, np.array([[1, 0, float(words[2]), float(words[3])]]), axis=0)\n",
    "    val = float(words[4][0])\n",
    "    out = np.append(out, np.array([[val]]), axis=0)\n",
    "train = np.transpose(train)\n",
    "print(train[1])"
   ],
   "metadata": {
    "collapsed": false,
    "pycharm": {
     "name": "#%%\n"
    }
   }
  },
  {
   "cell_type": "markdown",
   "source": [
    "Scaling"
   ],
   "metadata": {
    "collapsed": false,
    "pycharm": {
     "name": "#%% md\n"
    }
   }
  },
  {
   "cell_type": "code",
   "execution_count": null,
   "outputs": [],
   "source": [
    "maxOfRows = np.transpose(np.array([np.max(train, axis=1)]))\n",
    "minOfRows = np.transpose(np.array([np.min(train, axis=1)]))\n",
    "trainScaled = train - minOfRows\n",
    "trainScaled[1:] = trainScaled[1:] / (maxOfRows[1:] - minOfRows[1:])\n"
   ],
   "metadata": {
    "collapsed": false,
    "pycharm": {
     "name": "#%%\n"
    }
   }
  },
  {
   "cell_type": "raw",
   "source": [
    "split in to training and testing\n",
    "\n",
    "\n",
    "testScaled, trainScaled = np.hsplit(trainScaled, np.array([40]))\n",
    "out_test = out[:40]\n",
    "out_train = out[40:]\n",
    "\n"
   ],
   "metadata": {
    "collapsed": false
   }
  }
 ],
 "metadata": {
  "kernelspec": {
   "display_name": "Python 3",
   "language": "python",
   "name": "python3"
  },
  "language_info": {
   "codemirror_mode": {
    "name": "ipython",
    "version": 2
   },
   "file_extension": ".py",
   "mimetype": "text/x-python",
   "name": "python",
   "nbconvert_exporter": "python",
   "pygments_lexer": "ipython2",
   "version": "2.7.6"
  }
 },
 "nbformat": 4,
 "nbformat_minor": 0
}