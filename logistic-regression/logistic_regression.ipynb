{
 "cells": [
  {
   "cell_type": "code",
   "execution_count": null,
   "metadata": {
    "collapsed": true,
    "pycharm": {
     "name": "#%%\n"
    }
   },
   "outputs": [],
   "source": [
    "import matplotlib.pyplot as plt\n",
    "import numpy as np\n",
    "import scipy.stats as stats"
   ]
  },
  {
   "cell_type": "code",
   "execution_count": null,
   "outputs": [],
   "source": [
    "def LogisticCostFunction(expected, output):\n",
    "    return -1 * (sum(expected * np.log(output + 0.00000001) + (1 - expected) * np.log(1.00000001 - output)) / len(\n",
    "        expected))\n"
   ],
   "metadata": {
    "collapsed": false,
    "pycharm": {
     "name": "#%%\n"
    }
   }
  },
  {
   "cell_type": "code",
   "execution_count": null,
   "outputs": [],
   "source": [
    "def sigmoid(output):\n",
    "    return 1 / (1 + np.exp(-1 * output))"
   ],
   "metadata": {
    "collapsed": false,
    "pycharm": {
     "name": "#%%\n"
    }
   }
  },
  {
   "cell_type": "code",
   "source": [
    "def logistic_regression(input, params, expected, alpha, epochs):\n",
    "    costarr = []\n",
    "    for i in range(epochs):\n",
    "        result = np.dot(params, input)\n",
    "        result = np.transpose(result)\n",
    "        result = sigmoid(result)\n",
    "        cost = LogisticCostFunction(expected, result)\n",
    "        costarr.append(cost)\n",
    "        params = params - alpha * (np.sum(input * np.transpose((result - expected)), 1))\n",
    "    plt.plot(np.arange(0, len(costarr)), costarr)\n",
    "    plt.show()\n",
    "    return params"
   ],
   "metadata": {
    "collapsed": false,
    "pycharm": {
     "name": "#%%\n"
    }
   },
   "execution_count": null,
   "outputs": []
  },
  {
   "cell_type": "markdown",
   "source": [
    " Load the training data"
   ],
   "metadata": {
    "collapsed": false,
    "pycharm": {
     "name": "#%% md\n"
    }
   }
  },
  {
   "cell_type": "code",
   "execution_count": null,
   "outputs": [],
   "source": [
    "file = open(\"../data/Social_Network_Ads.csv\", \"r\")\n",
    "train = np.zeros((0, 4))\n",
    "out = np.zeros((0, 1))\n",
    "file.readline()\n",
    "for line in file.readlines():\n",
    "    words = line.split(\",\")\n",
    "    if words[1] == 'Male':\n",
    "        train = np.append(train, np.array([[1, 1, float(words[2]), float(words[3])]]), axis=0)\n",
    "    else:\n",
    "        train = np.append(train, np.array([[1, 0, float(words[2]), float(words[3])]]), axis=0)\n",
    "    val = float(words[4][0])\n",
    "    out = np.append(out, np.array([[val]]), axis=0)\n",
    "train = np.transpose(train)"
   ],
   "metadata": {
    "collapsed": false,
    "pycharm": {
     "name": "#%%\n"
    }
   }
  },
  {
   "cell_type": "markdown",
   "source": [
    "Data Visualization"
   ],
   "metadata": {
    "collapsed": false,
    "pycharm": {
     "name": "#%% md\n"
    }
   }
  },
  {
   "cell_type": "code",
   "execution_count": null,
   "outputs": [],
   "source": [
    "def visualize(train):\n",
    "    ages=train[2:3]\n",
    "    mu = sum(ages[0])/len(ages[0])\n",
    "    sigma = np.std(ages[0])\n",
    "    x = np.linspace(mu - 3*sigma, mu + 3*sigma, 100)\n",
    "    plt.plot(x, stats.norm.pdf(x, mu, sigma))\n",
    "    plt.show()\n",
    "\n",
    "    salaries=train[3:]\n",
    "    mu = sum(salaries[0])/len(salaries[0])\n",
    "    sigma = np.std(salaries[0])\n",
    "    x = np.linspace(mu - 3*sigma, mu + 3*sigma, 100)\n",
    "    plt.plot(x, stats.norm.pdf(x, mu, sigma))\n",
    "    plt.show()\n"
   ],
   "metadata": {
    "collapsed": false,
    "pycharm": {
     "name": "#%%\n"
    }
   }
  },
  {
   "cell_type": "markdown",
   "source": [
    "Scaling - normalisation"
   ],
   "metadata": {
    "collapsed": false,
    "pycharm": {
     "name": "#%% md\n"
    }
   }
  },
  {
   "cell_type": "code",
   "execution_count": null,
   "outputs": [],
   "source": [
    "maxOfRows = np.transpose(np.array([np.max(train, axis=1)]))\n",
    "minOfRows = np.transpose(np.array([np.min(train, axis=1)]))\n",
    "trainNormalised = train - minOfRows\n",
    "trainNormalised[1:] = trainNormalised[1:] / (maxOfRows[1:] - minOfRows[1:])\n",
    "visualize(trainNormalised)"
   ],
   "metadata": {
    "collapsed": false,
    "pycharm": {
     "name": "#%%\n"
    }
   }
  },
  {
   "cell_type": "markdown",
   "source": [
    "scaling - standardization"
   ],
   "metadata": {
    "collapsed": false,
    "pycharm": {
     "name": "#%% md\n"
    }
   }
  },
  {
   "cell_type": "code",
   "execution_count": null,
   "outputs": [],
   "source": [
    "trainStandardized = train\n",
    "mean = np.transpose([np.sum(trainStandardized[2:],axis=1)/len(trainStandardized[0])])\n",
    "sigma = np.transpose([np.std(trainStandardized[2:],axis = 1)])\n",
    "trainStandardized[2:] =(trainStandardized[2:]-mean)/sigma"
   ],
   "metadata": {
    "collapsed": false,
    "pycharm": {
     "name": "#%%\n"
    }
   }
  },
  {
   "cell_type": "markdown",
   "source": [
    "split in to training and testing"
   ],
   "metadata": {
    "collapsed": false,
    "pycharm": {
     "name": "#%% md\n"
    }
   }
  },
  {
   "cell_type": "code",
   "execution_count": null,
   "outputs": [],
   "source": [
    "testNormalized, trainNormalised = np.hsplit(trainNormalised, np.array([40]))\n",
    "out_test_nm = out[:40]\n",
    "out_train_nm = out[40:]"
   ],
   "metadata": {
    "collapsed": false,
    "pycharm": {
     "name": "#%%\n"
    }
   }
  },
  {
   "cell_type": "code",
   "execution_count": null,
   "outputs": [],
   "source": [
    "testStandardised, trainStandardized = np.hsplit(trainStandardized, np.array([40]))\n",
    "out_test_std = out[:40]\n",
    "out_train_std = out[40:]"
   ],
   "metadata": {
    "collapsed": false,
    "pycharm": {
     "name": "#%%\n"
    }
   }
  },
  {
   "cell_type": "markdown",
   "source": [
    "Accuracy of normalised data"
   ],
   "metadata": {
    "collapsed": false,
    "pycharm": {
     "name": "#%% md\n"
    }
   }
  },
  {
   "cell_type": "code",
   "execution_count": null,
   "outputs": [],
   "source": [
    "params = np.array([[0.01, 0.01, 0.01, 0.01]])\n",
    "alpha = 0.01\n",
    "params = logistic_regression(trainNormalised, params, out_train_nm, alpha, 50)\n",
    "\n",
    "predicted=sigmoid(np.transpose(np.dot(params, testNormalized)))\n",
    "arr =[i for i in range(len(predicted))]\n",
    "plt.plot(arr,np.transpose(predicted)[0])\n",
    "plt.plot(arr,[0.5 for i in range(len(predicted))])\n",
    "plt.plot(arr,out_test_nm)\n",
    "plt.show()"
   ],
   "metadata": {
    "collapsed": false,
    "pycharm": {
     "name": "#%%\n"
    }
   }
  },
  {
   "cell_type": "code",
   "execution_count": null,
   "outputs": [],
   "source": [
    "params = np.array([[0.01, 0.01, 0.01, 0.01]])\n",
    "alpha = 0.01\n",
    "params = logistic_regression(trainStandardized, params, out_train_std, alpha, 50)\n",
    "\n",
    "predicted=sigmoid(np.transpose(np.dot(params, testStandardised)))\n",
    "arr =[i for i in range(len(predicted))]\n",
    "plt.plot(arr,np.transpose(predicted)[0])\n",
    "plt.plot(arr,[0.5 for i in range(len(predicted))])\n",
    "plt.plot(arr,out_test_std)\n",
    "plt.show()\n",
    "\n"
   ],
   "metadata": {
    "collapsed": false,
    "pycharm": {
     "name": "#%%\n"
    }
   }
  }
 ],
 "metadata": {
  "kernelspec": {
   "display_name": "Python 3",
   "language": "python",
   "name": "python3"
  },
  "language_info": {
   "codemirror_mode": {
    "name": "ipython",
    "version": 2
   },
   "file_extension": ".py",
   "mimetype": "text/x-python",
   "name": "python",
   "nbconvert_exporter": "python",
   "pygments_lexer": "ipython2",
   "version": "2.7.6"
  }
 },
 "nbformat": 4,
 "nbformat_minor": 0
}